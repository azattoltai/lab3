{
 "cells": [
  {
   "cell_type": "code",
   "execution_count": 2,
   "metadata": {},
   "outputs": [
    {
     "name": "stdout",
     "output_type": "stream",
     "text": [
      "Пополнение на 500. Новый баланс: 1500\n",
      "Снятие 200. Новый баланс: 1300\n",
      "Недостаточно средств на счете.\n"
     ]
    }
   ],
   "source": [
    "class Bank:\n",
    "    def __init__(self, owner, balance=0):\n",
    "        self.owner = owner\n",
    "        self.balance = balance\n",
    "\n",
    "    def deposit(self, amount):\n",
    "        if amount > 0:\n",
    "            self.balance += amount\n",
    "            print(f\"Пополнение на {amount}. Новый баланс: {self.balance}\")\n",
    "        else:\n",
    "            print(\"Сумма пополнения должна быть больше нуля.\")\n",
    "\n",
    "    def withdraw(self, amount):\n",
    "        if amount <= self.balance:\n",
    "            self.balance -= amount\n",
    "            print(f\"Снятие {amount}. Новый баланс: {self.balance}\")\n",
    "        else:\n",
    "            print(\"Недостаточно средств на счете.\")\n",
    "\n",
    "\n",
    "account = Bank(\"Azat\", 1000)\n",
    "account.deposit(500)\n",
    "account.withdraw(200)\n",
    "account.withdraw(2000) \n"
   ]
  }
 ],
 "metadata": {
  "kernelspec": {
   "display_name": "Python 3",
   "language": "python",
   "name": "python3"
  },
  "language_info": {
   "codemirror_mode": {
    "name": "ipython",
    "version": 3
   },
   "file_extension": ".py",
   "mimetype": "text/x-python",
   "name": "python",
   "nbconvert_exporter": "python",
   "pygments_lexer": "ipython3",
   "version": "3.12.3"
  }
 },
 "nbformat": 4,
 "nbformat_minor": 2
}
