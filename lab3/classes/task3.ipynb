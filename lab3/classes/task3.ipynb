{
 "cells": [
  {
   "cell_type": "code",
   "execution_count": 6,
   "metadata": {},
   "outputs": [
    {
     "name": "stdout",
     "output_type": "stream",
     "text": [
      "Площадь квадрата: 16\n",
      "Площадь прямоугольника: 50\n"
     ]
    }
   ],
   "source": [
    "\n",
    "class Shape:\n",
    "    def area(self):\n",
    "        return 0  \n",
    "\n",
    "class Square(Shape):\n",
    "    def __init__(self, side_length):\n",
    "        self.side_length = side_length\n",
    "\n",
    "    def area(self):\n",
    "        return self.side_length ** 2  \n",
    "\n",
    "class Rectangle(Shape):\n",
    "    def __init__(self, length, width):\n",
    "        self.length = length\n",
    "        self.width = width\n",
    "\n",
    "    def area(self):\n",
    "        return self.length * self.width  \n",
    "\n",
    "square = Square(4)\n",
    "rectangle = Rectangle(5, 10)\n",
    "\n",
    "print(f\"Площадь квадрата: {square.area()}\")  \n",
    "print(f\"Площадь прямоугольника: {rectangle.area()}\")  \n"
   ]
  }
 ],
 "metadata": {
  "kernelspec": {
   "display_name": "Python 3",
   "language": "python",
   "name": "python3"
  },
  "language_info": {
   "name": "python",
   "version": "3.12.3"
  }
 },
 "nbformat": 4,
 "nbformat_minor": 2
}
