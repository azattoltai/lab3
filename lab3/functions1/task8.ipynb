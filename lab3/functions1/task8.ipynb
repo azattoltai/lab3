{
 "cells": [
  {
   "cell_type": "markdown",
   "metadata": {},
   "source": [
    "Write a function that takes in a list of integers and returns True if it contains 007 in order"
   ]
  },
  {
   "cell_type": "code",
   "execution_count": 1,
   "metadata": {},
   "outputs": [
    {
     "name": "stdout",
     "output_type": "stream",
     "text": [
      "True\n",
      "True\n",
      "True\n",
      "True\n"
     ]
    }
   ],
   "source": [
    "def contains_007(nums):\n",
    "    pattern = [0, 0, 7]  \n",
    "    index = 0  \n",
    "\n",
    "    for num in nums:\n",
    "        if num == pattern[index]:  \n",
    "            index += 1  \n",
    "            if index == len(pattern): \n",
    "                return True\n",
    "    return False  \n",
    "\n",
    "print(contains_007([1, 0, 2, 0, 7, 5]))  \n",
    "print(contains_007([0, 1, 0, 2, 7, 3]))  \n",
    "print(contains_007([0, 0, 3, 7, 0]))     \n",
    "print(contains_007([0, 0, 7, 1, 2]))      \n"
   ]
  }
 ],
 "metadata": {
  "kernelspec": {
   "display_name": "Python 3",
   "language": "python",
   "name": "python3"
  },
  "language_info": {
   "codemirror_mode": {
    "name": "ipython",
    "version": 3
   },
   "file_extension": ".py",
   "mimetype": "text/x-python",
   "name": "python",
   "nbconvert_exporter": "python",
   "pygments_lexer": "ipython3",
   "version": "3.12.3"
  }
 },
 "nbformat": 4,
 "nbformat_minor": 2
}
