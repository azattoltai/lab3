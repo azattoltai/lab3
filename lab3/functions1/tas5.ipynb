{
 "cells": [
  {
   "cell_type": "markdown",
   "metadata": {},
   "source": [
    "Write a function that accepts string from user and print all permutations of that string."
   ]
  },
  {
   "cell_type": "code",
   "execution_count": 2,
   "metadata": {},
   "outputs": [
    {
     "name": "stdout",
     "output_type": "stream",
     "text": [
      "azat\n",
      "azta\n",
      "aazt\n",
      "aatz\n",
      "atza\n",
      "ataz\n",
      "zaat\n",
      "zata\n",
      "zaat\n",
      "zata\n",
      "ztaa\n",
      "ztaa\n",
      "aazt\n",
      "aatz\n",
      "azat\n",
      "azta\n",
      "ataz\n",
      "atza\n",
      "taza\n",
      "taaz\n",
      "tzaa\n",
      "tzaa\n",
      "taaz\n",
      "taza\n"
     ]
    }
   ],
   "source": [
    "from itertools import permutations\n",
    "\n",
    "def string():\n",
    "    s = input()\n",
    "    perms = [''.join(p) for p in permutations(s)]\n",
    "    print(\"\\n\".join(perms))\n",
    "\n",
    "string()\n"
   ]
  },
  {
   "cell_type": "code",
   "execution_count": 4,
   "metadata": {},
   "outputs": [
    {
     "name": "stdout",
     "output_type": "stream",
     "text": [
      "bankai senbonzakura kageyoshi\n",
      "bankai kageyoshi senbonzakura\n",
      "senbonzakura bankai kageyoshi\n",
      "senbonzakura kageyoshi bankai\n",
      "kageyoshi bankai senbonzakura\n",
      "kageyoshi senbonzakura bankai\n"
     ]
    }
   ],
   "source": [
    "from itertools import permutations\n",
    "\n",
    "def shuffle_sentence():\n",
    "    sentence = input()\n",
    "    words = sentence.split()  \n",
    "    perms = [' '.join(p) for p in permutations(words)]  \n",
    "    print(\"\\n\".join(perms))  \n",
    "\n",
    "shuffle_sentence()\n"
   ]
  }
 ],
 "metadata": {
  "kernelspec": {
   "display_name": "Python 3",
   "language": "python",
   "name": "python3"
  },
  "language_info": {
   "codemirror_mode": {
    "name": "ipython",
    "version": 3
   },
   "file_extension": ".py",
   "mimetype": "text/x-python",
   "name": "python",
   "nbconvert_exporter": "python",
   "pygments_lexer": "ipython3",
   "version": "3.12.3"
  }
 },
 "nbformat": 4,
 "nbformat_minor": 2
}
