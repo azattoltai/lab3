{
 "cells": [
  {
   "cell_type": "code",
   "execution_count": 3,
   "metadata": {},
   "outputs": [
    {
     "name": "stdout",
     "output_type": "stream",
     "text": [
      "100 grams = 2834.95 ounces\n",
      "[2, 3, 5, 7]\n",
      "when the radius = 5 ,volume = 523.60 \n"
     ]
    }
   ],
   "source": [
    "from task14_part1 import grams_to_ounces, filter_prime, sphere_volume\n",
    "\n",
    "# the task 1\n",
    "grams = 100\n",
    "ounces = grams_to_ounces(grams)\n",
    "print(f\"{grams} grams = {ounces:.2f} ounces\")\n",
    "\n",
    "# the task 4\n",
    "numbers = [1, 2, 3, 4, 5, 6, 7, 8, 9, 10]\n",
    "primes = filter_prime(numbers)\n",
    "print(primes)\n",
    "\n",
    "# the task 9\n",
    "radius = 5\n",
    "volume = sphere_volume(radius)\n",
    "print(f\"when the radius = {radius} ,volume = {volume:.2f} \")\n"
   ]
  }
 ],
 "metadata": {
  "kernelspec": {
   "display_name": "Python 3",
   "language": "python",
   "name": "python3"
  },
  "language_info": {
   "codemirror_mode": {
    "name": "ipython",
    "version": 3
   },
   "file_extension": ".py",
   "mimetype": "text/x-python",
   "name": "python",
   "nbconvert_exporter": "python",
   "pygments_lexer": "ipython3",
   "version": "3.12.3"
  }
 },
 "nbformat": 4,
 "nbformat_minor": 2
}
