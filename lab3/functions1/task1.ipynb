{
 "cells": [
  {
   "cell_type": "markdown",
   "metadata": {},
   "source": [
    "A recipe you are reading states how many grams you need for the ingredient. Unfortunately, your store only sells items in ounces. Create a function to convert grams to ounces. ounces = 28.3495231 * grams\n"
   ]
  },
  {
   "cell_type": "code",
   "execution_count": 2,
   "metadata": {},
   "outputs": [
    {
     "name": "stdout",
     "output_type": "stream",
     "text": [
      "1.0 ounces is equal to 28.3495231 grams.\n"
     ]
    }
   ],
   "source": [
    "def ounces(x):\n",
    "    z = 28.3495231  \n",
    "    y = z * x\n",
    "    return y\n",
    "\n",
    "x = float(input(\"Enter the weight in ounces: \")) \n",
    "result = ounces(x)\n",
    "print(f\"{x} ounces is equal to {result} grams.\")"
   ]
  }
 ],
 "metadata": {
  "kernelspec": {
   "display_name": "Python 3",
   "language": "python",
   "name": "python3"
  },
  "language_info": {
   "codemirror_mode": {
    "name": "ipython",
    "version": 3
   },
   "file_extension": ".py",
   "mimetype": "text/x-python",
   "name": "python",
   "nbconvert_exporter": "python",
   "pygments_lexer": "ipython3",
   "version": "3.12.3"
  }
 },
 "nbformat": 4,
 "nbformat_minor": 2
}
