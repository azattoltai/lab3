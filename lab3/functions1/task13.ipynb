{
 "cells": [
  {
   "cell_type": "markdown",
   "metadata": {},
   "source": [
    "Write a program able to play the \"Guess the number\" - game, where the number to be guessed is randomly chosen between 1 and 20."
   ]
  },
  {
   "cell_type": "code",
   "execution_count": 2,
   "metadata": {},
   "outputs": [
    {
     "name": "stdout",
     "output_type": "stream",
     "text": [
      "Hello! What is your name? \n",
      "\n",
      "Well, azat, I am thinking of a number between 1 and 20.\n",
      "Take a guess.\n",
      "Your guess is too low.\n",
      "Take a guess.\n",
      "Your guess is too high.\n",
      "Take a guess.\n",
      "Your guess is too low.\n",
      "Take a guess.\n",
      "Your guess is too low.\n",
      "Take a guess.\n",
      "Good job, azat! You guessed my number in 5 guesses!\n"
     ]
    }
   ],
   "source": [
    "import random\n",
    "\n",
    "def guess_the_number():\n",
    "    print(\"Hello! What is your name? \")\n",
    "    name = input()\n",
    "\n",
    "    print(f\"\\nWell, {name}, I am thinking of a number between 1 and 20.\")\n",
    "    secret_number = random.randint(1, 20)\n",
    "    attempts = 0\n",
    "\n",
    "    while True:\n",
    "        print(\"Take a guess.\")\n",
    "        try:\n",
    "            guess = int(input())\n",
    "            attempts += 1\n",
    "\n",
    "            if guess < secret_number:\n",
    "                print(\"Your guess is too low.\")\n",
    "            elif guess > secret_number:\n",
    "                print(\"Your guess is too high.\")\n",
    "            else:\n",
    "                print(f\"Good job, {name}! You guessed my number in {attempts} guesses!\")\n",
    "                break\n",
    "        except ValueError:\n",
    "            print(\"Please enter a valid number between 1 and 20.\")\n",
    "\n",
    "guess_the_number()\n"
   ]
  }
 ],
 "metadata": {
  "kernelspec": {
   "display_name": "Python 3",
   "language": "python",
   "name": "python3"
  },
  "language_info": {
   "codemirror_mode": {
    "name": "ipython",
    "version": 3
   },
   "file_extension": ".py",
   "mimetype": "text/x-python",
   "name": "python",
   "nbconvert_exporter": "python",
   "pygments_lexer": "ipython3",
   "version": "3.12.3"
  }
 },
 "nbformat": 4,
 "nbformat_minor": 2
}
