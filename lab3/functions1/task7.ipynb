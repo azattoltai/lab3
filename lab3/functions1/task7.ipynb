{
 "cells": [
  {
   "cell_type": "markdown",
   "metadata": {},
   "source": [
    "Given a list of ints, return True if the array contains a 3 next to a 3 somewhere."
   ]
  },
  {
   "cell_type": "code",
   "execution_count": 1,
   "metadata": {},
   "outputs": [
    {
     "name": "stdout",
     "output_type": "stream",
     "text": [
      "True\n"
     ]
    }
   ],
   "source": [
    "def numbers():\n",
    "    nums = list(map(int, input().split())) \n",
    "    for i in range(len(nums) - 1):  \n",
    "        if nums[i] == 3 and nums[i + 1] == 3:  \n",
    "            return True  \n",
    "    return False  \n",
    "print(numbers())\n"
   ]
  },
  {
   "cell_type": "code",
   "execution_count": 2,
   "metadata": {},
   "outputs": [
    {
     "name": "stdout",
     "output_type": "stream",
     "text": [
      "True\n",
      "False\n",
      "True\n",
      "False\n"
     ]
    }
   ],
   "source": [
    "def numbers(nums):\n",
    "    for i in range(len(nums) - 1): \n",
    "        if nums[i] == 3 and nums[i + 1] == 3:  \n",
    "            return True  \n",
    "    return False  \n",
    "\n",
    "print(numbers([1, 3, 3, 4]))  \n",
    "print(numbers([3, 1, 3, 4]))  \n",
    "print(numbers([3, 3, 3, 1]))  \n",
    "print(numbers([1, 2, 4, 5]))  \n"
   ]
  }
 ],
 "metadata": {
  "kernelspec": {
   "display_name": "Python 3",
   "language": "python",
   "name": "python3"
  },
  "language_info": {
   "codemirror_mode": {
    "name": "ipython",
    "version": 3
   },
   "file_extension": ".py",
   "mimetype": "text/x-python",
   "name": "python",
   "nbconvert_exporter": "python",
   "pygments_lexer": "ipython3",
   "version": "3.12.3"
  }
 },
 "nbformat": 4,
 "nbformat_minor": 2
}
