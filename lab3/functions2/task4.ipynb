{
 "cells": [
  {
   "cell_type": "markdown",
   "metadata": {},
   "source": [
    "4.Write a function that takes a list of movies and computes the average IMDB score."
   ]
  },
  {
   "cell_type": "code",
   "execution_count": 2,
   "metadata": {},
   "outputs": [
    {
     "name": "stdout",
     "output_type": "stream",
     "text": [
      "Средний балл IMDB для всех фильмов: 6.49\n"
     ]
    }
   ],
   "source": [
    "movies = [\n",
    "    {\"name\": \"Usual Suspects\", \"imdb\": 7.0, \"category\": \"Thriller\"},\n",
    "    {\"name\": \"Hitman\", \"imdb\": 6.3, \"category\": \"Action\"},\n",
    "    {\"name\": \"Dark Knight\", \"imdb\": 9.0, \"category\": \"Adventure\"},\n",
    "    {\"name\": \"The Help\", \"imdb\": 8.0, \"category\": \"Drama\"},\n",
    "    {\"name\": \"The Choice\", \"imdb\": 6.2, \"category\": \"Romance\"},\n",
    "    {\"name\": \"Colonia\", \"imdb\": 7.4, \"category\": \"Romance\"},\n",
    "    {\"name\": \"Love\", \"imdb\": 6.0, \"category\": \"Romance\"},\n",
    "    {\"name\": \"Bride Wars\", \"imdb\": 5.4, \"category\": \"Romance\"},\n",
    "    {\"name\": \"AlphaJet\", \"imdb\": 3.2, \"category\": \"War\"},\n",
    "    {\"name\": \"Ringing Crime\", \"imdb\": 4.0, \"category\": \"Crime\"},\n",
    "    {\"name\": \"Joking muck\", \"imdb\": 7.2, \"category\": \"Comedy\"},\n",
    "    {\"name\": \"What is the name\", \"imdb\": 9.2, \"category\": \"Suspense\"},\n",
    "    {\"name\": \"Detective\", \"imdb\": 7.0, \"category\": \"Suspense\"},\n",
    "    {\"name\": \"Exam\", \"imdb\": 4.2, \"category\": \"Thriller\"},\n",
    "    {\"name\": \"We Two\", \"imdb\": 7.2, \"category\": \"Romance\"}\n",
    "]\n",
    "\n",
    "\n",
    "def imdb(movies):\n",
    "    total_imdb = sum(movie[\"imdb\"] for movie in movies)\n",
    "    return total_imdb / len(movies) if movies else 0\n",
    "\n",
    "\n",
    "average_imdb = imdb(movies)\n",
    "print(f\"Средний балл IMDB для всех фильмов: {average_imdb:.2f}\")\n"
   ]
  }
 ],
 "metadata": {
  "kernelspec": {
   "display_name": "Python 3",
   "language": "python",
   "name": "python3"
  },
  "language_info": {
   "codemirror_mode": {
    "name": "ipython",
    "version": 3
   },
   "file_extension": ".py",
   "mimetype": "text/x-python",
   "name": "python",
   "nbconvert_exporter": "python",
   "pygments_lexer": "ipython3",
   "version": "3.12.3"
  }
 },
 "nbformat": 4,
 "nbformat_minor": 2
}
